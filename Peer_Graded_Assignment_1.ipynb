{
  "nbformat": 4,
  "nbformat_minor": 0,
  "metadata": {
    "colab": {
      "name": "Peer Graded Assignment.ipynb",
      "provenance": [],
      "collapsed_sections": [],
      "authorship_tag": "ABX9TyO50WIbzTh6C8QW7ogijHwK",
      "include_colab_link": true
    },
    "kernelspec": {
      "name": "python3",
      "display_name": "Python 3"
    },
    "language_info": {
      "name": "python"
    }
  },
  "cells": [
    {
      "cell_type": "markdown",
      "metadata": {
        "id": "view-in-github",
        "colab_type": "text"
      },
      "source": [
        "<a href=\"https://colab.research.google.com/github/Kshamika-Ghiya/IBM-Data-Science/blob/main/Peer_Graded_Assignment_1.ipynb\" target=\"_parent\"><img src=\"https://colab.research.google.com/assets/colab-badge.svg\" alt=\"Open In Colab\"/></a>"
      ]
    },
    {
      "cell_type": "markdown",
      "source": [
        "#\"My Jupyter Notebook on IBM Watson Studio\""
      ],
      "metadata": {
        "id": "iuvR4c7U-cNw"
      }
    },
    {
      "cell_type": "markdown",
      "source": [
        "**KSHAMIKA GHIYA**\n",
        "\n",
        "Student aspiring to be a Data Scientist"
      ],
      "metadata": {
        "id": "Y19BRJ_8-lWX"
      }
    },
    {
      "cell_type": "markdown",
      "source": [
        "_I am interested in data science because I enjoy problem solving and statistical analysis. The unending possibilities of applying data and finding answers to questions that can change the world is one of the reasons why I want to persue a career in Data science._"
      ],
      "metadata": {
        "id": "UuBeCBn-_HRH"
      }
    },
    {
      "cell_type": "markdown",
      "source": [
        "###Printing \"Hello world\" on screen along with an addtion of the letters of both words in \"Hello world\" without taking space into consideration."
      ],
      "metadata": {
        "id": "tzKiqlRFQmUK"
      }
    },
    {
      "cell_type": "code",
      "source": [
        "print(\"Hello World\")\n",
        "len(\"Hello\") + len(\"world\")"
      ],
      "metadata": {
        "colab": {
          "base_uri": "https://localhost:8080/"
        },
        "id": "JoxFvrdCQmml",
        "outputId": "e67dcc34-781a-4c44-8d7b-58d71a45ebd1"
      },
      "execution_count": null,
      "outputs": [
        {
          "output_type": "stream",
          "name": "stdout",
          "text": [
            "Hello World\n"
          ]
        },
        {
          "output_type": "execute_result",
          "data": {
            "text/plain": [
              "10"
            ]
          },
          "metadata": {},
          "execution_count": 4
        }
      ]
    },
    {
      "cell_type": "markdown",
      "source": [
        "Markdown | Less | Pretty\n",
        "--- | --- | ---\n",
        "*Still* | `renders` | **nicely**\n",
        "1 | 2 | 3\n",
        "\n",
        "---\n",
        "\n",
        "<dl>\n",
        "  <dt>Hello</dt>\n",
        "  <dd>My name is Kshamika.</dd>\n",
        "\n",
        "  <dt>Markdown in HTML</dt>\n",
        "  <dd>The cheatsheet makes doing this very easy</dd>\n",
        "</dl>\n",
        "\n",
        "***\n",
        "\n",
        "The race is starting\n",
        "\n",
        "---\n",
        "\n",
        "> READY?\n",
        "\n",
        "***\n",
        "\n",
        "> SET.\n",
        "\n",
        "___\n",
        "\n",
        "> GO!\n",
        "\n",
        "___\n",
        "\n",
        "Modes of transports\n",
        "+ Bus\n",
        "+ Train\n",
        "+ Car\n",
        "+ Airplane\n",
        "+ Bike\n",
        "+ Cycle"
      ],
      "metadata": {
        "id": "UtYGdYJpQm8Y"
      }
    }
  ]
}